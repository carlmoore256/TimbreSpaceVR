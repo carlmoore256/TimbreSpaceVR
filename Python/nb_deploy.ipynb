{
 "cells": [
  {
   "cell_type": "code",
   "execution_count": 1,
   "metadata": {},
   "outputs": [],
   "source": [
    "%load_ext autoreload\n",
    "%autoreload 2"
   ]
  },
  {
   "cell_type": "code",
   "execution_count": 2,
   "metadata": {},
   "outputs": [],
   "source": [
    "from unity import copy_file_to_unity_resources, format_resource_path\n",
    "from utils import print_pretty\n",
    "from hashing import hash_file, hash_string, hash_dict, hash_list\n",
    "from package_graincloud import create_graincloud_metadata\n",
    "from resources import create_package_resource, create_web_resource\n",
    "from web_storage import upload_file_to_pinata, pinata_web_provider, aws_web_provider\n",
    "import json"
   ]
  },
  {
   "attachments": {},
   "cell_type": "markdown",
   "metadata": {},
   "source": [
    "### Creating resources for a GrainCloud\n",
    "\n",
    "In order to publish a GrainCloud, you must include links to the files/resources along with the metadata. These additionaly files include\n",
    "\n",
    "- audio samples\n",
    "- image thumbnails\n",
    "- user session state\n",
    "- sequences\n",
    "- more to come...\n",
    "\n",
    "This repo includes tools to upload samples to a web provider, such as IPFS (using Pinata), and automatically generate correct metadata."
   ]
  },
  {
   "cell_type": "code",
   "execution_count": 3,
   "metadata": {},
   "outputs": [],
   "source": [
    "local_file=\"E:/AudioClips/GranularTextures_Mini_Noiiz/118_ChainDrums_831.wav\"\n",
    "title = \"Granular Textures - 118_ChainDrums_831 by Noiiz\"\n",
    "description=\"Granular Textures - 118_ChainDrums_831 by Noiiz\"\n",
    "title_hash = hash_string(title)"
   ]
  },
  {
   "cell_type": "code",
   "execution_count": 4,
   "metadata": {},
   "outputs": [
    {
     "name": "stdout",
     "output_type": "stream",
     "text": [
      "Autodetected MIME type: audio/wav\n",
      "{\n",
      "    \"type\": \"audio/wav\",\n",
      "    \"category\": \"sample\",\n",
      "    \"location\": \"web\",\n",
      "    \"uri\": \"https://timbrespace.s3.amazonaws.com/118_ChainDrums_831.wav\",\n",
      "    \"hash\": \"f2448d416cd0804a\",\n",
      "    \"bytes\": 2190456\n",
      "}\n"
     ]
    }
   ],
   "source": [
    "resource_web = create_web_resource(\n",
    "    local_file=local_file,\n",
    "    category=\"sample\",\n",
    "    web_provider=aws_web_provider, # or use a helper function\n",
    ")\n",
    "\n",
    "print_pretty(resource_web)"
   ]
  },
  {
   "cell_type": "code",
   "execution_count": 5,
   "metadata": {},
   "outputs": [
    {
     "name": "stdout",
     "output_type": "stream",
     "text": [
      "{\n",
      "    \"type\": \"audio/wav\",\n",
      "    \"category\": \"sample\",\n",
      "    \"location\": \"web\",\n",
      "    \"uri\": \"https://ipfs.io/ipfs/bafybeifzfxyjrs5wufnw6a6wbilj5up66lrk55fessoz7443kawtslloui\",\n",
      "    \"hash\": \"9b2df6ee20edaaec5a0ed767fe51a0be0a20e7a9ce8fe723cd0487eabdb5f6fe\",\n",
      "    \"bytes\": 73859138\n",
      "}\n"
     ]
    }
   ],
   "source": [
    "# web_provider must be a function that takes in a local file uri,\n",
    "# and provides back a web uri where the resource has been uploaded to\n",
    "resource_web = create_web_resource(\n",
    "    local_file=local_file, \n",
    "    category=\"sample\",\n",
    "    web_provider=lambda x: upload_file_to_pinata(x, filename=title)[\"url\"], # either use a lambda\n",
    "    # web_provider=pinata_web_provider, # or use a helper function\n",
    ")\n",
    "\n",
    "print_pretty(resource_web)"
   ]
  },
  {
   "cell_type": "code",
   "execution_count": 15,
   "metadata": {},
   "outputs": [
    {
     "name": "stdout",
     "output_type": "stream",
     "text": [
      "{\n",
      "    \"type\": \"audio/wav\",\n",
      "    \"category\": \"sample\",\n",
      "    \"location\": \"package\",\n",
      "    \"uri\": \"SamplePacks/Stuck Inside Your Side/StuckInsideYourSide-2-VOX\",\n",
      "    \"hash\": \"9b2df6ee20edaaec5a0ed767fe51a0be0a20e7a9ce8fe723cd0487eabdb5f6fe\",\n",
      "    \"bytes\": 73859138\n",
      "}\n"
     ]
    }
   ],
   "source": [
    "resource_package = create_package_resource(\n",
    "    local_file=local_file, \n",
    "    category=\"sample\",\n",
    "    title=title,\n",
    ")\n",
    "\n",
    "print_pretty(resource_package)"
   ]
  },
  {
   "attachments": {},
   "cell_type": "markdown",
   "metadata": {},
   "source": [
    "When loading a resource, TimbreSpaceVR will consider each resource with the same hash equivalent, and look for the easiest one to load. Depending on the platform, this will either be stored in appdata (android, windows), or playerprefs (webgl).\n",
    "\n",
    "Description of the parameters:\n",
    "- \"type\" : MIME type of the content, determines how the application should download/convert the file\n",
    "- \"category\" : How TimbreSpaceVR will interpret the content. \"sample\" will be loaded as the audio for a GrainCloud\n",
    "- \"location\" : The location where the resource is located. TSVR will load the resource easiest to load. Depending on the platform, this will either be stored in appdata (android, windows), or playerprefs (webgl).\n",
    "- \"uri\" : Location of the actual file\n",
    "- \"hash\" : sha256 hash of the file's contents to determine which files are unique\n",
    "- \"bytes\" : Size of the file in bytes"
   ]
  },
  {
   "attachments": {},
   "cell_type": "markdown",
   "metadata": {},
   "source": [
    "### Building Metadata package for a GrainCloud\n",
    "\n",
    "Now that resources have been generated, the final metadata package can be built. "
   ]
  },
  {
   "cell_type": "code",
   "execution_count": 9,
   "metadata": {},
   "outputs": [
    {
     "name": "stdout",
     "output_type": "stream",
     "text": [
      "{\n",
      "    \"title\": \"Granular Textures - 118_ChainDrums_831 by Noiiz\",\n",
      "    \"description\": \"Granular Textures - 118_ChainDrums_831 by Noiiz\",\n",
      "    \"hash\": \"cbf199cddc91d4c6\",\n",
      "    \"creator\": {\n",
      "        \"name\": \"Carl Moore\",\n",
      "        \"website\": \"https://carlmoore.xyz\"\n",
      "    },\n",
      "    \"parameters\": {\n",
      "        \"xFeature\": \"MFCC_0\",\n",
      "        \"yFeature\": \"MFCC_1\",\n",
      "        \"zFeature\": \"MFCC_2\",\n",
      "        \"rFeature\": \"MFCC_3\",\n",
      "        \"gFeature\": \"MFCC_4\",\n",
      "        \"bFeature\": \"MFCC_5\",\n",
      "        \"scaleFeature\": \"RMS\",\n",
      "        \"windowSize\": 8192,\n",
      "        \"hopSize\": 1024,\n",
      "        \"scaleMult\": 0.05,\n",
      "        \"scaleExp\": 0.1,\n",
      "        \"useHSV\": false,\n",
      "        \"posAxisScale\": [\n",
      "            1,\n",
      "            1,\n",
      "            1\n",
      "        ]\n",
      "    },\n",
      "    \"resources\": [\n",
      "        {\n",
      "            \"type\": \"audio/wav\",\n",
      "            \"category\": \"sample\",\n",
      "            \"location\": \"web\",\n",
      "            \"uri\": \"https://timbrespace.s3.amazonaws.com/118_ChainDrums_831.wav\",\n",
      "            \"hash\": \"f2448d416cd0804a\",\n",
      "            \"bytes\": 2190456\n",
      "        }\n",
      "    ],\n",
      "    \"session\": {\n",
      "        \"sequences\": []\n",
      "    }\n",
      "}\n"
     ]
    }
   ],
   "source": [
    "metadata = create_graincloud_metadata(\n",
    "    local_file=local_file,\n",
    "    title=title,\n",
    "    description=description,\n",
    "    parameters= { # these are the default parameters (definitions.DEFAULT_PARAMETERS)\n",
    "        \"xFeature\": \"MFCC_0\",\n",
    "        \"yFeature\": \"MFCC_1\",\n",
    "        \"zFeature\": \"MFCC_2\",\n",
    "        \"rFeature\": \"MFCC_3\",\n",
    "        \"gFeature\": \"MFCC_4\",\n",
    "        \"bFeature\": \"MFCC_5\",\n",
    "        \"scaleFeature\": \"RMS\",\n",
    "        \"windowSize\": 8192,\n",
    "        \"hopSize\": 1024,\n",
    "        \"scaleMult\" : 0.05,\n",
    "        \"scaleExp\" : 0.1,\n",
    "        \"useHSV\" : False,\n",
    "        \"posAxisScale\" : [1,1,1]\n",
    "    },\n",
    "    # resources=[resource_web, resource_package],\n",
    "    resources=[resource_web],\n",
    "    creator={\n",
    "        \"name\" : \"Carl Moore\",\n",
    "        \"website\" : \"https://carlmoore.xyz\"\n",
    "    },\n",
    "    output_file=f\"data/metadata/{hash_string(title)}.json\"\n",
    ")\n",
    "print_pretty(metadata)"
   ]
  },
  {
   "attachments": {},
   "cell_type": "markdown",
   "metadata": {},
   "source": [
    "If you're ready to upload the metadata, go ahead!"
   ]
  },
  {
   "cell_type": "code",
   "execution_count": 10,
   "metadata": {},
   "outputs": [
    {
     "name": "stdout",
     "output_type": "stream",
     "text": [
      "{\n",
      "    \"object_key\": \"tmp56xoj0rc.json\",\n",
      "    \"url\": \"https://timbrespace.s3.amazonaws.com/tmp56xoj0rc.json\"\n",
      "}\n"
     ]
    }
   ],
   "source": [
    "from web_storage import upload_json_to_aws\n",
    "from utils import print_pretty, save_json, load_json\n",
    "\n",
    "hosted_metadata = \"data/hosted-metadata.json\"\n",
    "\n",
    "res = upload_json_to_aws(metadata)\n",
    "\n",
    "if res is not None:\n",
    "    print_pretty(res)\n",
    "    # add url and title to data/saved-metadata.json, and save the file\n",
    "    saves = load_json(hosted_metadata)\n",
    "    saves.append({\n",
    "        \"title\" : title,\n",
    "        \"url\" : res[\"url\"]\n",
    "    })\n",
    "    save_json(saves, hosted_metadata)\n"
   ]
  },
  {
   "cell_type": "code",
   "execution_count": null,
   "metadata": {},
   "outputs": [],
   "source": [
    "aws_web_provider(json.dumps(metadata))"
   ]
  },
  {
   "cell_type": "code",
   "execution_count": 11,
   "metadata": {},
   "outputs": [
    {
     "name": "stdout",
     "output_type": "stream",
     "text": [
      "{\"pinataOptions\": {\"cidVersion\": 1}, \"pinataContent\": \"{\\\"title\\\": \\\"Stuck Inside Your Side\\\", \\\"description\\\": \\\"A song I wrote\\\", \\\"hash\\\": \\\"f4a29d8f3a179f76ffaa6182730dd5533dab44db7d2a37751d8001993a9e38e9\\\", \\\"creator\\\": {\\\"name\\\": \\\"Carl Moore\\\", \\\"website\\\": \\\"https://carlmoore.xyz\\\"}, \\\"parameters\\\": {\\\"xFeature\\\": \\\"MFCC_0\\\", \\\"yFeature\\\": \\\"MFCC_1\\\", \\\"zFeature\\\": \\\"MFCC_2\\\", \\\"rFeature\\\": \\\"MFCC_3\\\", \\\"gFeature\\\": \\\"MFCC_4\\\", \\\"bFeature\\\": \\\"MFCC_5\\\", \\\"scaleFeature\\\": \\\"RMS\\\", \\\"windowSize\\\": 8192, \\\"hopSize\\\": 8192, \\\"scaleMult\\\": 0.01, \\\"scaleExp\\\": 0.1, \\\"useHSV\\\": false, \\\"posAxisScale\\\": [1, 1, 1]}, \\\"resources\\\": [{\\\"type\\\": \\\"audio/wav\\\", \\\"category\\\": \\\"sample\\\", \\\"location\\\": \\\"web\\\", \\\"uri\\\": \\\"https://ipfs.io/ipfs/bafybeifzfxyjrs5wufnw6a6wbilj5up66lrk55fessoz7443kawtslloui\\\", \\\"hash\\\": \\\"9b2df6ee20edaaec5a0ed767fe51a0be0a20e7a9ce8fe723cd0487eabdb5f6fe\\\", \\\"bytes\\\": 73859138}, {\\\"type\\\": \\\"audio/wav\\\", \\\"category\\\": \\\"sample\\\", \\\"location\\\": \\\"package\\\", \\\"uri\\\": \\\"SamplePacks/Stuck Inside Your Side/StuckInsideYourSide-2-VOX\\\", \\\"hash\\\": \\\"9b2df6ee20edaaec5a0ed767fe51a0be0a20e7a9ce8fe723cd0487eabdb5f6fe\\\", \\\"bytes\\\": 73859138}], \\\"session\\\": {\\\"sequences\\\": []}}\", \"pinataMetadata\": {\"name\": \"362fdb432147b4b6964327e97cf5a02f55d9e30b7a348be464acfd1f80cab546-metadata\"}}\n"
     ]
    },
    {
     "data": {
      "text/plain": [
       "{'IpfsHash': 'bafkreicnaxcvhh6nvtyrmvojivtvlflea7hbm72rk7yipycivmxjt76bgq',\n",
       " 'PinSize': 1148,\n",
       " 'Timestamp': '2023-04-02T05:59:41.251Z',\n",
       " 'url': 'https://ipfs.io/ipfs/bafkreicnaxcvhh6nvtyrmvojivtvlflea7hbm72rk7yipycivmxjt76bgq'}"
      ]
     },
     "execution_count": 11,
     "metadata": {},
     "output_type": "execute_result"
    }
   ],
   "source": [
    "from web_storage import upload_json_to_pinata\n",
    "\n",
    "upload_json_to_pinata(metadata, pinata_metadata={\"name\": f\"{hash_string(title)}-metadata\"})"
   ]
  },
  {
   "attachments": {},
   "cell_type": "markdown",
   "metadata": {},
   "source": [
    "Format a file for the Unity resources package (needed for developer only)"
   ]
  },
  {
   "cell_type": "code",
   "execution_count": null,
   "metadata": {},
   "outputs": [],
   "source": [
    "uri = copy_file_to_unity_resources(\"C:/Users/Carl/Desktop/carl_sc.png\", \"test\")\n",
    "test = format_resource_path(uri)\n",
    "print(test)"
   ]
  }
 ],
 "metadata": {
  "kernelspec": {
   "display_name": "Python 3",
   "language": "python",
   "name": "python3"
  },
  "language_info": {
   "codemirror_mode": {
    "name": "ipython",
    "version": 3
   },
   "file_extension": ".py",
   "mimetype": "text/x-python",
   "name": "python",
   "nbconvert_exporter": "python",
   "pygments_lexer": "ipython3",
   "version": "3.7.9"
  },
  "orig_nbformat": 4
 },
 "nbformat": 4,
 "nbformat_minor": 2
}
